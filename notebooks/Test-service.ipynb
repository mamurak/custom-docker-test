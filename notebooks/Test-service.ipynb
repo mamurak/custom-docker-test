{
 "cells": [
  {
   "cell_type": "markdown",
   "id": "6b34fcf4-5d58-446a-8b89-1305913fc52d",
   "metadata": {},
   "source": [
    "# Test deployed model"
   ]
  },
  {
   "cell_type": "code",
   "execution_count": null,
   "id": "7fb118e6-9af2-42ae-9405-a019f41be3f3",
   "metadata": {},
   "outputs": [],
   "source": [
    "import requests\n",
    "\n",
    "model_endpoint = 'ROUTE_URL'\n",
    "url = f'{model_endpoint}/predict/'\n",
    "\n",
    "test_request_body = {\n",
    "   \"text\": \"source add to the conversation using facebook comments,joel skousen on scenario world war 3 nwo 2016 is coming source add to the conversation using facebook comments\"\n",
    "}"
   ]
  },
  {
   "cell_type": "markdown",
   "id": "f7e51924-7cdb-471d-9704-2a0c40182a3c",
   "metadata": {},
   "source": [
    "Send test request"
   ]
  },
  {
   "cell_type": "code",
   "execution_count": null,
   "id": "70c991f2-a5c3-4900-b3df-32df567d3551",
   "metadata": {},
   "outputs": [],
   "source": [
    "response = requests.get(url, json=test_request_body)\n",
    "print(response.json())"
   ]
  },
  {
   "cell_type": "code",
   "execution_count": null,
   "id": "234bf90c-7fcb-4a21-bcf0-6a3bbb0778ec",
   "metadata": {},
   "outputs": [],
   "source": []
  }
 ],
 "metadata": {
  "kernelspec": {
   "display_name": "Python 3 (ipykernel)",
   "language": "python",
   "name": "python3"
  },
  "language_info": {
   "codemirror_mode": {
    "name": "ipython",
    "version": 3
   },
   "file_extension": ".py",
   "mimetype": "text/x-python",
   "name": "python",
   "nbconvert_exporter": "python",
   "pygments_lexer": "ipython3",
   "version": "3.9.2"
  }
 },
 "nbformat": 4,
 "nbformat_minor": 5
}

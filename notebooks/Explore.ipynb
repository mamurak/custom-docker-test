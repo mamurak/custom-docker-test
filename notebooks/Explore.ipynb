{
 "cells": [
  {
   "cell_type": "code",
   "execution_count": 1,
   "metadata": {},
   "outputs": [],
   "source": [
    "import nltk\n",
    "import pandas as pd\n",
    "import seaborn as sns\n",
    "\n",
    "from nltk import tokenize\n",
    "from matplotlib import pyplot as plt"
   ]
  },
  {
   "cell_type": "code",
   "execution_count": 2,
   "metadata": {},
   "outputs": [],
   "source": [
    "\n",
    "stopwords = [\n",
    "    'the','and','to','of','was','with','on','in','for','no','name',\n",
    "    'is','he','or','at','as','one','she','am','you','his',\n",
    "    'your','were','by','pt','not','her','be','this','are','there',\n",
    "    'had','date','from','first','an','that','have','but','has','please','which',\n",
    "    'namepattern','seen','every','fax', 'home', 'telephone', 'given', 'after', \n",
    "    'also','will', 'un', 'up', 'well', 'time', 'any']\n",
    "token_space = tokenize.WhitespaceTokenizer()\n",
    "\n",
    "def counter(text, column_text, quantity, stopwords):\n",
    "    all_words = ' '.join([text for text in text[column_text].astype('str')])\n",
    "    token_phrase = token_space.tokenize(all_words)\n",
    "    frequency = nltk.FreqDist(token_phrase) \n",
    "    df_frequency = pd.DataFrame({\"Word\": list(frequency.keys()), \"Frequency\": list(frequency.values())}) \n",
    "    df_frequency = df_frequency[~df_frequency['Word'].isin(stopwords)].reset_index()\n",
    "    df_frequency = df_frequency.nlargest(columns = \"Frequency\", n = quantity)\n",
    "    plt.figure(figsize=(12, 8))\n",
    "    ax = sns.barplot(data = df_frequency, x = \"Word\", y = \"Frequency\", palette=\"deep\")\n",
    "    ax.set(ylabel = \"Count\")\n",
    "    plt.xticks(rotation='horizontal')\n",
    "    plt.show()\n",
    "\n",
    "def normalize(text):\n",
    "    text = text.str.lower()\n",
    "    text = text.str.replace(r'[^A-Za-z0-9]+', ' ', regex=True)\n",
    "    text = text.str.replace('\\s{2,}', ' ', regex=False)\n",
    "    return text\n"
   ]
  },
  {
   "cell_type": "code",
   "execution_count": 3,
   "metadata": {},
   "outputs": [
    {
     "data": {
      "text/html": [
       "<div>\n",
       "<style scoped>\n",
       "    .dataframe tbody tr th:only-of-type {\n",
       "        vertical-align: middle;\n",
       "    }\n",
       "\n",
       "    .dataframe tbody tr th {\n",
       "        vertical-align: top;\n",
       "    }\n",
       "\n",
       "    .dataframe thead th {\n",
       "        text-align: right;\n",
       "    }\n",
       "</style>\n",
       "<table border=\"1\" class=\"dataframe\">\n",
       "  <thead>\n",
       "    <tr style=\"text-align: right;\">\n",
       "      <th></th>\n",
       "      <th>label</th>\n",
       "      <th>titletext</th>\n",
       "    </tr>\n",
       "  </thead>\n",
       "  <tbody>\n",
       "    <tr>\n",
       "      <th>0</th>\n",
       "      <td>1</td>\n",
       "      <td>you can smell hillary s fear daniel greenfield...</td>\n",
       "    </tr>\n",
       "    <tr>\n",
       "      <th>1</th>\n",
       "      <td>1</td>\n",
       "      <td>watch the exact moment paul ryan committed pol...</td>\n",
       "    </tr>\n",
       "    <tr>\n",
       "      <th>2</th>\n",
       "      <td>0</td>\n",
       "      <td>kerry to go to paris in gesture of sympathy u ...</td>\n",
       "    </tr>\n",
       "    <tr>\n",
       "      <th>3</th>\n",
       "      <td>1</td>\n",
       "      <td>bernie supporters on twitter erupt in anger ag...</td>\n",
       "    </tr>\n",
       "    <tr>\n",
       "      <th>4</th>\n",
       "      <td>0</td>\n",
       "      <td>the battle of new york why this primary matter...</td>\n",
       "    </tr>\n",
       "    <tr>\n",
       "      <th>...</th>\n",
       "      <td>...</td>\n",
       "      <td>...</td>\n",
       "    </tr>\n",
       "    <tr>\n",
       "      <th>6330</th>\n",
       "      <td>0</td>\n",
       "      <td>state department says it can t find emails fro...</td>\n",
       "    </tr>\n",
       "    <tr>\n",
       "      <th>6331</th>\n",
       "      <td>1</td>\n",
       "      <td>the p in pbs should stand for plutocratic or p...</td>\n",
       "    </tr>\n",
       "    <tr>\n",
       "      <th>6332</th>\n",
       "      <td>1</td>\n",
       "      <td>anti trump protesters are tools of the oligarc...</td>\n",
       "    </tr>\n",
       "    <tr>\n",
       "      <th>6333</th>\n",
       "      <td>0</td>\n",
       "      <td>in ethiopia obama seeks progress on peace secu...</td>\n",
       "    </tr>\n",
       "    <tr>\n",
       "      <th>6334</th>\n",
       "      <td>0</td>\n",
       "      <td>jeb bush is suddenly attacking trump here s wh...</td>\n",
       "    </tr>\n",
       "  </tbody>\n",
       "</table>\n",
       "<p>6335 rows × 2 columns</p>\n",
       "</div>"
      ],
      "text/plain": [
       "      label                                          titletext\n",
       "0         1  you can smell hillary s fear daniel greenfield...\n",
       "1         1  watch the exact moment paul ryan committed pol...\n",
       "2         0  kerry to go to paris in gesture of sympathy u ...\n",
       "3         1  bernie supporters on twitter erupt in anger ag...\n",
       "4         0  the battle of new york why this primary matter...\n",
       "...     ...                                                ...\n",
       "6330      0  state department says it can t find emails fro...\n",
       "6331      1  the p in pbs should stand for plutocratic or p...\n",
       "6332      1  anti trump protesters are tools of the oligarc...\n",
       "6333      0  in ethiopia obama seeks progress on peace secu...\n",
       "6334      0  jeb bush is suddenly attacking trump here s wh...\n",
       "\n",
       "[6335 rows x 2 columns]"
      ]
     },
     "execution_count": 3,
     "metadata": {},
     "output_type": "execute_result"
    }
   ],
   "source": [
    "df = pd.read_csv('../data/raw/news.csv')\n",
    "df['label'] = (df['label'] == 'FAKE').astype('int')\n",
    "df['titletext'] = df['title'] + \". \" + df['text']\n",
    "df = df.reindex(columns=['label', 'titletext'])\n",
    "df['titletext'] = normalize(df['titletext'])\n",
    "df"
   ]
  },
  {
   "cell_type": "code",
   "execution_count": 17,
   "metadata": {},
   "outputs": [
    {
     "data": {
      "image/png": "[encoded data removed]",
      "text/plain": [
       "<Figure size 864x576 with 1 Axes>"
      ]
     },
     "metadata": {
      "needs_background": "light"
     },
     "output_type": "display_data"
    }
   ],
   "source": [
    "counter(df[df['label'] == 0], 'titletext', 30, stopwords)"
   ]
  },
  {
   "cell_type": "code",
   "execution_count": 4,
   "metadata": {},
   "outputs": [
    {
     "data": {
      "image/png": "[encoded data removed]",
      "text/plain": [
       "<Figure size 864x576 with 1 Axes>"
      ]
     },
     "metadata": {
      "needs_background": "light"
     },
     "output_type": "display_data"
    }
   ],
   "source": [
    "counter(df[df['label'] == 1], 'titletext', 30, stopwords)"
   ]
  },
  {
   "cell_type": "code",
   "execution_count": null,
   "metadata": {},
   "outputs": [],
   "source": []
  }
 ],
 "metadata": {
  "interpreter": {
   "hash": "251bb9106bb289545a2afd1750c61dee62351dc92ad407674766b8e67b5d9637"
  },
  "kernelspec": {
   "display_name": "Python 3.9.13 ('env-cpu')",
   "language": "python",
   "name": "python3"
  },
  "language_info": {
   "codemirror_mode": {
    "name": "ipython",
    "version": 3
   },
   "file_extension": ".py",
   "mimetype": "text/x-python",
   "name": "python",
   "nbconvert_exporter": "python",
   "pygments_lexer": "ipython3",
   "version": "3.9.13"
  },
  "orig_nbformat": 4
 },
 "nbformat": 4,
 "nbformat_minor": 2
}
